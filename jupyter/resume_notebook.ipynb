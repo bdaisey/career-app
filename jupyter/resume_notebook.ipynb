{
 "cells": [
  {
   "cell_type": "code",
   "execution_count": 1,
   "metadata": {},
   "outputs": [
    {
     "name": "stdout",
     "output_type": "stream",
     "text": [
      "['/opt/homebrew/Cellar/python@3.11/3.11.7_1/Frameworks/Python.framework/Versions/3.11/lib/python311.zip', '/opt/homebrew/Cellar/python@3.11/3.11.7_1/Frameworks/Python.framework/Versions/3.11/lib/python3.11', '/opt/homebrew/Cellar/python@3.11/3.11.7_1/Frameworks/Python.framework/Versions/3.11/lib/python3.11/lib-dynload', '', '/Users/briandaisey/Documents/career-app/env/lib/python3.11/site-packages', '/Users/briandaisey/Documents/career-app/backend/']\n"
     ]
    },
    {
     "data": {
      "text/plain": [
       "PosixPath('/Users/briandaisey/Documents/career-app/backend')"
      ]
     },
     "execution_count": 1,
     "metadata": {},
     "output_type": "execute_result"
    }
   ],
   "source": [
    "import sys\n",
    "import os\n",
    "\n",
    "import django\n",
    "\n",
    "PROJECT_PATH = '/Users/briandaisey/Documents/career-app/backend/'\n",
    "sys.path.append(PROJECT_PATH)\n",
    "print(sys.path)\n",
    "os.environ.setdefault('DJANGO_SETTINGS_MODULE', 'core.settings.dev')\n",
    "\n",
    "os.environ[\"DJANGO_ALLOW_ASYNC_UNSAFE\"] = \"true\"\n",
    "django.setup()\n",
    "\n",
    "from django.conf import settings\n",
    "\n",
    "settings.BASE_DIR\n",
    "# print(django.conf.global_settings)\n",
    "\n"
   ]
  },
  {
   "cell_type": "code",
   "execution_count": 6,
   "metadata": {},
   "outputs": [
    {
     "data": {
      "text/plain": [
       "<Resume: brian - Management Resume>"
      ]
     },
     "execution_count": 6,
     "metadata": {},
     "output_type": "execute_result"
    }
   ],
   "source": [
    "from resume.models import Resume\n",
    "\n",
    "\n",
    "res = Resume.objects.get(title='Management Resume')\n",
    "res.\n"
   ]
  },
  {
   "cell_type": "code",
   "execution_count": 23,
   "metadata": {},
   "outputs": [
    {
     "data": {
      "text/plain": [
       "'Printed shirts'"
      ]
     },
     "execution_count": 23,
     "metadata": {},
     "output_type": "execute_result"
    }
   ],
   "source": [
    "from django.contrib.auth.models import User\n",
    "\n",
    "usr = User.objects.get(username='brian')\n",
    "res = usr.resumes.get(title='Management Resume')\n",
    "\n",
    "all_rj = res.resumejob_set.all()\n",
    "\n",
    "# all_rj.first().resumejobbullet_set.all()\n",
    "all_rj.first().resumejobbullet_set.first().bullet.content\n"
   ]
  },
  {
   "cell_type": "code",
   "execution_count": 26,
   "metadata": {},
   "outputs": [
    {
     "name": "stdout",
     "output_type": "stream",
     "text": [
      "brian - Software Resume\n",
      "<QuerySet [<ResumeJob: brian - Software Resume - Software Dev at IMS>, <ResumeJob: brian - Software Resume - Cofounder at Capital Threads>, <ResumeJob: brian - Software Resume - Owner at LLG>]>\n"
     ]
    }
   ],
   "source": [
    "from django.contrib.auth.models import User\n",
    "\n",
    "usr = User.objects.get(username='brian')\n",
    "res = usr.resumes.get(title='Management Resume')\n",
    "\n",
    "usr = User.objects.first()\n",
    "res = usr.resumes.first()\n",
    "print(res)\n",
    "\n",
    "all_rj = res.resumejob_set.all()\n",
    "print(all_rj)"
   ]
  },
  {
   "cell_type": "code",
   "execution_count": null,
   "metadata": {},
   "outputs": [],
   "source": []
  }
 ],
 "metadata": {
  "kernelspec": {
   "display_name": "env",
   "language": "python",
   "name": "python3"
  },
  "language_info": {
   "codemirror_mode": {
    "name": "ipython",
    "version": 3
   },
   "file_extension": ".py",
   "mimetype": "text/x-python",
   "name": "python",
   "nbconvert_exporter": "python",
   "pygments_lexer": "ipython3",
   "version": "3.11.7"
  }
 },
 "nbformat": 4,
 "nbformat_minor": 2
}
